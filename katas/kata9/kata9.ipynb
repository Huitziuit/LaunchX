{
 "cells": [
  {
   "cell_type": "markdown",
   "metadata": {},
   "source": [
    "# kata 9"
   ]
  },
  {
   "cell_type": "code",
   "execution_count": 8,
   "metadata": {},
   "outputs": [
    {
     "name": "stdout",
     "output_type": "stream",
     "text": [
      "      Fuel\n",
      "    ----------------------------\n",
      "    Oxygen 10\n",
      "    hydogen 20\n",
      "    nuclear 30\n",
      "    Average 20.0\n"
     ]
    }
   ],
   "source": [
    "#Función para leer 3 tanques de combustible y muestre el promedio\n",
    "\n",
    "def fuel(oxygen, hydrogen, nuclear):\n",
    "    average=(oxygen+hydrogen+nuclear)/3\n",
    "    return(\"\"\"      Fuel\n",
    "    ----------------------------\n",
    "    Oxygen {0}\n",
    "    hydogen {1}\n",
    "    nuclear {2}\n",
    "    Average {3}\"\"\".format(oxygen,hydrogen,nuclear,average))\n",
    "\n",
    "# Llamamos a la función que genera el reporte print(funcion(tanque1, tanque2, tanque3))\n",
    "print(fuel(10,20,30))\n",
    "\n"
   ]
  },
  {
   "cell_type": "code",
   "execution_count": 11,
   "metadata": {},
   "outputs": [
    {
     "name": "stdout",
     "output_type": "stream",
     "text": [
      "      Fuel\n",
      "    ----------------------------\n",
      "    Oxygen 10\n",
      "    hydogen 20\n",
      "    nuclear 30\n",
      "    Average 20.0\n"
     ]
    }
   ],
   "source": [
    "#En lugar de simplemente crear el informe, la función también está calculando el promedio. Mejora la legibilidad extrayendo el cálculo promedio de la función en una nueva función para que el promedio se pueda hacer de forma independiente:\n",
    "\n",
    "def average(v1,v2,v3):\n",
    "    return((v1+v2+v3)/3)\n",
    "\n",
    "def fuel(oxygen, hydrogen, nuclear):\n",
    "    return(\"\"\"      Fuel\n",
    "    ----------------------------\n",
    "    Oxygen {0}\n",
    "    hydogen {1}\n",
    "    nuclear {2}\n",
    "    Average {3}\"\"\".format(oxygen,hydrogen,nuclear,average(oxygen,hydrogen,nuclear)))\n",
    "\n",
    "# Llamamos a la función que genera el reporte print(funcion(tanque1, tanque2, tanque3))\n",
    "print(fuel(10,20,30))\n",
    "\n"
   ]
  },
  {
   "cell_type": "code",
   "execution_count": 13,
   "metadata": {},
   "outputs": [
    {
     "name": "stdout",
     "output_type": "stream",
     "text": [
      "\n",
      "    Mission Moon\n",
      "    Total travel time: 904 \n",
      "    Total fuel left: 9068417\n",
      "    \n"
     ]
    }
   ],
   "source": [
    "#Función con un informe preciso de la misión. Considera hora de prelanzamiento, tiempo de vuelo, destino, tanque externo y tanque interno\n",
    "def report(preLaunch, flight, mission, etank, itank):\n",
    "    return \"\"\"\n",
    "    Mission {0}\n",
    "    Total travel time: {1} \n",
    "    Total fuel left: {2}\n",
    "    \"\"\".format(mission, preLaunch+flight, itank+etank)\n",
    "\n",
    "print(report(4, 900, \"Moon\", 987609, 8080808))"
   ]
  },
  {
   "cell_type": "code",
   "execution_count": 21,
   "metadata": {},
   "outputs": [
    {
     "name": "stdout",
     "output_type": "stream",
     "text": [
      "\n",
      "    Mission Moon\n",
      "    Total travel time: 904 \n",
      "    Total fuel left: 9068417\n",
      "    e tank have 987609 gallons \n",
      "i tank have 8080808 gallons \n",
      "\n"
     ]
    }
   ],
   "source": [
    "#Hazlo más flexible permitiendo cualquier número de pasos basados en el tiempo y cualquier número de tanques.\n",
    "#Debido a que el combustible que queda en los tanques es específico de cada tanque, actualiza la función para usar el nombre de cada tanque en el informe:\n",
    "\n",
    "def report(mission, *time, **tanks):\n",
    "    message=\"\"\"\n",
    "    Mission {0}\n",
    "    Total travel time: {1} \n",
    "    Total fuel left: {2}\n",
    "    \"\"\".format(mission, sum(time), sum(tanks.values()))\n",
    "\n",
    "\n",
    "    for tank, gallons in tanks.items():\n",
    "        message += f\"{tank} tank have {gallons} gallons \\n\"\n",
    "    return message\n",
    "\n",
    "print(report(\"Moon\",4, 900,e=987609, i=8080808))\n"
   ]
  }
 ],
 "metadata": {
  "interpreter": {
   "hash": "916dbcbb3f70747c44a77c7bcd40155683ae19c65e1c03b4aa3499c5328201f1"
  },
  "kernelspec": {
   "display_name": "Python 3.8.10 64-bit",
   "language": "python",
   "name": "python3"
  },
  "language_info": {
   "codemirror_mode": {
    "name": "ipython",
    "version": 3
   },
   "file_extension": ".py",
   "mimetype": "text/x-python",
   "name": "python",
   "nbconvert_exporter": "python",
   "pygments_lexer": "ipython3",
   "version": "3.8.10"
  },
  "orig_nbformat": 4
 },
 "nbformat": 4,
 "nbformat_minor": 2
}
